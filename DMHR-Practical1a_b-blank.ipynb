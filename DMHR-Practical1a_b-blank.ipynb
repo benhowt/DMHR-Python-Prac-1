{
 "cells": [
  {
   "cell_type": "code",
   "execution_count": null,
   "metadata": {
    "collapsed": true
   },
   "outputs": [],
   "source": [
    "## When things go wrong\n",
    "\n",
    "* Things can and will go wrong.\n",
    "* But its normal, so dont worry :-)\n",
    "* Python has pretty good error handling - you will know when things go wrong.\n",
    "* There are three main types of errors"
   ]
  },
  {
   "cell_type": "markdown",
   "metadata": {},
   "source": [
    "### Resources\n",
    "\n",
    "* [Python official documentation](https://docs.python.org/2/)\n",
    "* [Python wiki guide for befinners](https://wiki.python.org/moin/BeginnersGuide/NonProgrammers)\n",
    "* [Stack overflow](https://stackoverflow.com/)\n",
    "* [Learn Python The Hard Way](http://learnpythonthehardway.org/book/index.html)\n",
    "* [Pandas quick start guide](http://pandas.pydata.org/pandas-docs/stable/10min.html)"
   ]
  },
  {
   "cell_type": "markdown",
   "metadata": {},
   "source": [
    "### Syntax errors\n",
    "* The syntax is incorrect.\n",
    "* Python is case-sensitive.\n",
    "* Functions and names are also case-sensitive.\n",
    "* Python will let you know when a syntax error happens."
   ]
  },
  {
   "cell_type": "code",
   "execution_count": 1,
   "metadata": {
    "collapsed": false
   },
   "outputs": [
    {
     "ename": "SyntaxError",
     "evalue": "invalid syntax (<ipython-input-1-49a0b9d98a97>, line 1)",
     "output_type": "error",
     "traceback": [
      "\u001b[0;36m  File \u001b[0;32m\"<ipython-input-1-49a0b9d98a97>\"\u001b[0;36m, line \u001b[0;32m1\u001b[0m\n\u001b[0;31m    PRINT \"HELLO\"\u001b[0m\n\u001b[0m                ^\u001b[0m\n\u001b[0;31mSyntaxError\u001b[0m\u001b[0;31m:\u001b[0m invalid syntax\n"
     ]
    }
   ],
   "source": [
    "PRINT \"HELLO\""
   ]
  },
  {
   "cell_type": "markdown",
   "metadata": {},
   "source": [
    "### Runtime errors\n",
    "* The syntax is correct.\n",
    "* But you are asking Python to do something impossible."
   ]
  },
  {
   "cell_type": "code",
   "execution_count": 2,
   "metadata": {
    "collapsed": false
   },
   "outputs": [
    {
     "ename": "TypeError",
     "evalue": "unsupported operand type(s) for /: 'float' and 'str'",
     "output_type": "error",
     "traceback": [
      "\u001b[0;31m---------------------------------------------------------------------------\u001b[0m",
      "\u001b[0;31mTypeError\u001b[0m                                 Traceback (most recent call last)",
      "\u001b[0;32m<ipython-input-2-d15035025819>\u001b[0m in \u001b[0;36m<module>\u001b[0;34m()\u001b[0m\n\u001b[1;32m      1\u001b[0m \u001b[0mheight\u001b[0m \u001b[1;33m=\u001b[0m \u001b[1;36m1.2\u001b[0m\u001b[1;33m\u001b[0m\u001b[0m\n\u001b[1;32m      2\u001b[0m \u001b[0mweight\u001b[0m \u001b[1;33m=\u001b[0m \u001b[1;34m\"weight\"\u001b[0m\u001b[1;33m\u001b[0m\u001b[0m\n\u001b[0;32m----> 3\u001b[0;31m \u001b[1;32mprint\u001b[0m \u001b[0mheight\u001b[0m\u001b[1;33m/\u001b[0m\u001b[0mweight\u001b[0m\u001b[1;33m\u001b[0m\u001b[0m\n\u001b[0m",
      "\u001b[0;31mTypeError\u001b[0m: unsupported operand type(s) for /: 'float' and 'str'"
     ]
    }
   ],
   "source": [
    "height = 1.2\n",
    "weight = \"weight\"\n",
    "print height/weight"
   ]
  },
  {
   "cell_type": "markdown",
   "metadata": {},
   "source": [
    "### Summary of errors\n",
    "\n",
    "| Type of error | Why/What | \n",
    "| ------------- | -------- | \n",
    "| Syntax | the syntax is wrong, error message |\n",
    "| Runtime | you have asked for something impossible, error message |\n"
   ]
  },
  {
   "cell_type": "markdown",
   "metadata": {},
   "source": [
    "## Basics"
   ]
  },
  {
   "cell_type": "markdown",
   "metadata": {},
   "source": [
    "* The _print_ function allows you to print values on the screen.\n",
    "* It's one of many functions Python comes with (more to follow in the next session)"
   ]
  },
  {
   "cell_type": "code",
   "execution_count": 5,
   "metadata": {
    "collapsed": false
   },
   "outputs": [
    {
     "name": "stdout",
     "output_type": "stream",
     "text": [
      "Hello, world\n"
     ]
    }
   ],
   "source": [
    "print \"Hello, world\""
   ]
  },
  {
   "cell_type": "markdown",
   "metadata": {},
   "source": [
    "### Exercise\n",
    "* Type the example above\n",
    "* Type your name using the print function"
   ]
  },
  {
   "cell_type": "markdown",
   "metadata": {},
   "source": [
    "## Variables\n",
    "* Variables are how values are stored in a Python programme\n",
    "* Each variable has a unique name\n",
    "* A variable can support multiple data types\n",
    "  * i.e. it can hold a string, a number or a date (more detail below)\n",
    "* You assign a value using the _=_ operator\n",
    "* Variables in Python are _strongly, dynamically typed_\n",
    "  * The data type of a variable does not magically change\n",
    "  * A string will not become a number\n",
    "  * You are not allowed to do operations that are incompatible with the variable data type"
   ]
  },
  {
   "cell_type": "markdown",
   "metadata": {},
   "source": [
    "``` Python\n",
    "name = \"Spiros\"\n",
    "```"
   ]
  },
  {
   "cell_type": "code",
   "execution_count": 7,
   "metadata": {
    "collapsed": false
   },
   "outputs": [
    {
     "data": {
      "text/plain": [
       "str"
      ]
     },
     "execution_count": 7,
     "metadata": {},
     "output_type": "execute_result"
    }
   ],
   "source": [
    "name = \"Spiros\"\n",
    "type(name)"
   ]
  },
  {
   "cell_type": "code",
   "execution_count": 8,
   "metadata": {
    "collapsed": false
   },
   "outputs": [
    {
     "data": {
      "text/plain": [
       "int"
      ]
     },
     "execution_count": 8,
     "metadata": {},
     "output_type": "execute_result"
    }
   ],
   "source": [
    "patient_hr=103\n",
    "type(patient_hr)"
   ]
  },
  {
   "cell_type": "markdown",
   "metadata": {},
   "source": [
    "## Expressions and operators\n",
    "* Python scripts are essentially a collection of variables and operators\n",
    "* Operators manipulate variables or combine them, forming expressions\n",
    "\n",
    "```Python\n",
    "name = \"Spiros\"\n",
    "```\n",
    "\n",
    "* The operator is _=_\n",
    "* The variable is _name_\n",
    "\n",
    "```Python\n",
    "kg = 85\n",
    "grams = kg * 1000\n",
    "```\n",
    "* The operators are _=_ and _*_\n",
    "* The variables are _kg_ and _grams_\n"
   ]
  },
  {
   "cell_type": "markdown",
   "metadata": {},
   "source": [
    "##  Arithmetic operators\n",
    "\n",
    "Arithmetic operators turn your computer into a (very) expensive calculator\n",
    "\n",
    "\n",
    "| Operator | Description | Example | Result |\n",
    "|----------| ----------- | ------- | ------ |\n",
    "| +  | addition           | 2+2  | 4   | \n",
    "| -  | subtraction        | 2-1  | 1   |\n",
    "| /  | division           | 3/2  | 1.5 |\n",
    "| // | division (integer) | 3//2 | 1   | \n",
    "| *  | multiplication     | 5\\*2 | 10  | \n",
    "| %  | modulus            | 7%3  | 1   |\n",
    "| \\*\\* | exponentiation | 2\\*\\*2 | 4 | "
   ]
  },
  {
   "cell_type": "markdown",
   "metadata": {},
   "source": [
    "### Exercise\n",
    "\n",
    "* Type the examples above\n",
    "* Create two variables that contains a patient's systolic and diastolic blood pressure and calculate the _systemic blood pressure_ (systolic - diastolic blood pressure)\n"
   ]
  },
  {
   "cell_type": "markdown",
   "metadata": {},
   "source": [
    "##  Comparison (aka relational) operators\n",
    "\n",
    "* Comparison operators compare two values and decide the relation among them\n",
    "* They return _true_ if a condition is met and _false_ if its not\n",
    "\n",
    "| Operator | Description | Example | Result |\n",
    "|----------| ----------- | ------- | ------ |\n",
    "| == | true if values are equal     | 2==2  | true  | \n",
    "| != | true if values are not equal | 2!=1  | true  |\n",
    "| >  | greater than                 | 100>2 | true  |\n",
    "| <  | less than                    | 2<-1  | false | \n",
    "| >= | greater than or equal        | 5>=5  | true  | \n",
    "| <= | less than or equal           | 8<=2  | false  |"
   ]
  },
  {
   "cell_type": "markdown",
   "metadata": {},
   "source": [
    "### Exercise\n",
    "* Type the examples above\n",
    "* Using the example above, check if the patients systolic blood pressure is _less_ than the diastolic blood pressure"
   ]
  },
  {
   "cell_type": "markdown",
   "metadata": {},
   "source": [
    "##  Logic operators\n",
    "\n",
    "* Logic operators combine expressions into larger expressions\n",
    "* They work similarly to comparison operators\n",
    "* They return _true_ if a condition is met and _false_ if its not\n",
    "\n",
    "| Operator | Description | Example | Result |\n",
    "|----------| ----------- | ------- | ------ |\n",
    "| and | check if both conditions are true      | 2>1 and 3>4 | false  | \n",
    "| or | check if either condition is true | 2 < 3 or 1>8  | true  |\n"
   ]
  },
  {
   "cell_type": "markdown",
   "metadata": {},
   "source": [
    "### Exercise\n",
    "* Type the examples above\n",
    "* Using the blood pressure example above, check if a patients systolic blood pressure and diastolic blood pressure are both more than 0"
   ]
  },
  {
   "cell_type": "markdown",
   "metadata": {},
   "source": [
    "## Data types"
   ]
  },
  {
   "cell_type": "markdown",
   "metadata": {},
   "source": [
    "### Numbers\n",
    "* Number data types store numeric values.\n",
    "* Number objects are created when you assign a value to them.\n",
    "* Python supports four different numerical data types.\n",
    "\n",
    "| Name    | Usage |\n",
    "| --------| -------| \n",
    "| int     | signed integer             |\n",
    "| long    | long integer               |\n",
    "| float   | floating point real values |\n",
    "| complex | complex numbers            |"
   ]
  },
  {
   "cell_type": "code",
   "execution_count": 10,
   "metadata": {
    "collapsed": true
   },
   "outputs": [],
   "source": [
    "number_one = 123\n",
    "number_two = 456\n",
    "number_three = 3.141516"
   ]
  },
  {
   "cell_type": "code",
   "execution_count": 11,
   "metadata": {
    "collapsed": false
   },
   "outputs": [
    {
     "name": "stdout",
     "output_type": "stream",
     "text": [
      "456\n"
     ]
    }
   ],
   "source": [
    "print number_two"
   ]
  },
  {
   "cell_type": "markdown",
   "metadata": {},
   "source": [
    "### Exercise\n",
    "* Create two number variables to store a patients clinical measurements\n",
    "* BMI was 23.4\n",
    "* Height was 182cm\n",
    "* Weight was 88kg"
   ]
  },
  {
   "cell_type": "markdown",
   "metadata": {},
   "source": [
    "## Strings\n",
    "* String data types store sequences of characters.\n",
    "* These must be enclosed in quotes (to distinguish them from variable names).\n",
    "* You can join multiple string variables with \"+\"\n",
    "* The len() function can return the total number of characters in a string.\n",
    "* Strings also have many other [built-in functions](https://docs.python.org/2/library/stdtypes.html#string-methods) used to manipulate them."
   ]
  },
  {
   "cell_type": "code",
   "execution_count": 12,
   "metadata": {
    "collapsed": false
   },
   "outputs": [
    {
     "name": "stdout",
     "output_type": "stream",
     "text": [
      "Hello, this is an example string. Hi, nice to meet you! \n"
     ]
    }
   ],
   "source": [
    "example_string = \"Hello, this is an example string. \"\n",
    "another_string = \"Hi, nice to meet you! \"\n",
    "last_example   = example_string + another_string\n",
    "print last_example"
   ]
  },
  {
   "cell_type": "code",
   "execution_count": 13,
   "metadata": {
    "collapsed": false
   },
   "outputs": [
    {
     "data": {
      "text/plain": [
       "'hELLO, THIS IS AN EXAMPLE STRING. '"
      ]
     },
     "execution_count": 13,
     "metadata": {},
     "output_type": "execute_result"
    }
   ],
   "source": [
    "example_string.swapcase()"
   ]
  },
  {
   "cell_type": "markdown",
   "metadata": {},
   "source": [
    "* Characters in strings are indexed.\n",
    "* This means the first string character element is 0, the second one is 1 etc\n",
    "* You can get the n-th string element by using the [ ] notation."
   ]
  },
  {
   "cell_type": "code",
   "execution_count": 14,
   "metadata": {
    "collapsed": false
   },
   "outputs": [
    {
     "name": "stdout",
     "output_type": "stream",
     "text": [
      "123456789\n",
      "1\n",
      "3\n"
     ]
    }
   ],
   "source": [
    "nhs_number = \"123456789\"\n",
    "print nhs_number\n",
    "print nhs_number[0]\n",
    "print nhs_number[2]"
   ]
  },
  {
   "cell_type": "markdown",
   "metadata": {},
   "source": [
    "### Exercise\n",
    "* Create two variables to store a patients name. \n",
    "* One of the first name (John) and one for the second name (Doe).\n",
    "* Create a third variable that contains the name.\n",
    "* Count the number of letters in the full name."
   ]
  },
  {
   "cell_type": "markdown",
   "metadata": {},
   "source": [
    "## Lists\n",
    "* Lists are used to group together multiple values.\n",
    "* The values do not necessarilty have to be the same type.\n",
    "* Elements in lists can be added, removed or changed."
   ]
  },
  {
   "cell_type": "code",
   "execution_count": 16,
   "metadata": {
    "collapsed": false
   },
   "outputs": [
    {
     "name": "stdout",
     "output_type": "stream",
     "text": [
      "[1, 2, 3, 'octagon', 'cat', 'dog', 7, 9]\n"
     ]
    }
   ],
   "source": [
    "example_list = [ 1, 2, 3, \"octagon\", \"cat\", \"dog\", 7, 9 ]\n",
    "print example_list"
   ]
  },
  {
   "cell_type": "markdown",
   "metadata": {},
   "source": [
    "* Elements in lists are indexed.\n",
    "* This means the first list element is 0, the second one is 1 etc\n",
    "* You can get the nth list element by using the [ ] notation."
   ]
  },
  {
   "cell_type": "code",
   "execution_count": 18,
   "metadata": {
    "collapsed": false
   },
   "outputs": [
    {
     "name": "stdout",
     "output_type": "stream",
     "text": [
      "1\n",
      "dog\n"
     ]
    }
   ],
   "source": [
    "print example_list[0]\n",
    "print example_list[5]"
   ]
  },
  {
   "cell_type": "markdown",
   "metadata": {},
   "source": [
    "* Python has many useful list functions you can use.\n",
    "* Elements can be deleted with the del() function.\n",
    "* For example, we might want to delete the first element of the list."
   ]
  },
  {
   "cell_type": "code",
   "execution_count": 19,
   "metadata": {
    "collapsed": false
   },
   "outputs": [
    {
     "name": "stdout",
     "output_type": "stream",
     "text": [
      "[2, 3, 'octagon', 'cat', 'dog', 7, 9]\n"
     ]
    }
   ],
   "source": [
    "del example_list[0]\n",
    "print example_list"
   ]
  },
  {
   "cell_type": "markdown",
   "metadata": {},
   "source": [
    "* There are several functions for manipulating list values.\n",
    "* append(y) will append value y at the end of the list\n",
    "* insert(x,y) will insert value y at location x\n",
    "* delete(x) wil delete the value at location x\n",
    "* remove(x) will remove value x\n",
    "* count(x) will count the number of times values x appears in the list"
   ]
  },
  {
   "cell_type": "code",
   "execution_count": 20,
   "metadata": {
    "collapsed": false
   },
   "outputs": [
    {
     "name": "stdout",
     "output_type": "stream",
     "text": [
      "[2, 3, 'octagon', 'cat', 'dog', 7, 9, 10]\n",
      "['chicken', 2, 3, 'octagon', 'cat', 'dog', 7, 9, 10]\n",
      "[2, 3, 'octagon', 'cat', 'dog', 7, 9, 10]\n",
      "1\n"
     ]
    }
   ],
   "source": [
    "example_list.append(10)\n",
    "print example_list\n",
    "example_list.insert(0, 'chicken')\n",
    "print example_list\n",
    "example_list.remove(\"chicken\")\n",
    "print example_list\n",
    "print example_list.count(\"cat\")"
   ]
  },
  {
   "cell_type": "markdown",
   "metadata": {},
   "source": [
    "### Exercise\n",
    "* Create a list of a patients heart rate measurements: 89, 90, 110, 98, 120, 160, 123, 90, 1000\n",
    "* How many measurements are there?\n",
    "* Print the last heart rate measurement\n",
    "* Print the first heart rate measurement\n",
    "* Print the minimum and maximum\n",
    "* Delete the wrong measurement\n",
    "* Print the minimum and maximum again\n",
    "* Sort the values (hint, use sort()!)"
   ]
  },
  {
   "cell_type": "markdown",
   "metadata": {},
   "source": [
    "## Dictionaries\n",
    "* Lists are great - but hard to use to organize things\n",
    "* Python provides another data structure to organize values, the _dictionary_\n",
    "* Dictionaries store data in pairs: a key and a value\n",
    "* Dictionaries allow you to retrieve a value based on the key"
   ]
  },
  {
   "cell_type": "code",
   "execution_count": 21,
   "metadata": {
    "collapsed": false
   },
   "outputs": [
    {
     "data": {
      "text/plain": [
       "{'0101010Q0': 'Magnesium Hydroxide',\n",
       " '0101010R0': 'Simeticone ',\n",
       " '0101010S0': 'Calcium Carbonate & Simeticone',\n",
       " '0103020P0': 'Pirenzepine '}"
      ]
     },
     "execution_count": 21,
     "metadata": {},
     "output_type": "execute_result"
    }
   ],
   "source": [
    "example_dictionary = { \n",
    "    \"0101010Q0\" : \"Magnesium Hydroxide\", \n",
    "    \"0101010R0\" : \"Simeticone \", \n",
    "    \"0103020P0\" : \"Pirenzepine \", \n",
    "    \"0101010S0\" : \"Calcium Carbonate & Simeticone\"} \n",
    "\n",
    "example_dictionary"
   ]
  },
  {
   "cell_type": "markdown",
   "metadata": {},
   "source": [
    "* You can retrieve a value from a dictionary using the key\n",
    "* Equally, if you try and retrieve a key that does not exist you will receive an error"
   ]
  },
  {
   "cell_type": "code",
   "execution_count": 22,
   "metadata": {
    "collapsed": false
   },
   "outputs": [
    {
     "name": "stdout",
     "output_type": "stream",
     "text": [
      "Simeticone \n"
     ]
    }
   ],
   "source": [
    "print example_dictionary[\"0101010R0\"]"
   ]
  },
  {
   "cell_type": "code",
   "execution_count": 23,
   "metadata": {
    "collapsed": false
   },
   "outputs": [
    {
     "ename": "KeyError",
     "evalue": "'does not exist'",
     "output_type": "error",
     "traceback": [
      "\u001b[0;31m---------------------------------------------------------------------------\u001b[0m",
      "\u001b[0;31mKeyError\u001b[0m                                  Traceback (most recent call last)",
      "\u001b[0;32m<ipython-input-23-8116c7535d2e>\u001b[0m in \u001b[0;36m<module>\u001b[0;34m()\u001b[0m\n\u001b[0;32m----> 1\u001b[0;31m \u001b[1;32mprint\u001b[0m \u001b[0mexample_dictionary\u001b[0m\u001b[1;33m[\u001b[0m\u001b[1;34m\"does not exist\"\u001b[0m\u001b[1;33m]\u001b[0m\u001b[1;33m\u001b[0m\u001b[0m\n\u001b[0m",
      "\u001b[0;31mKeyError\u001b[0m: 'does not exist'"
     ]
    }
   ],
   "source": [
    "print example_dictionary[\"does not exist\"]"
   ]
  },
  {
   "cell_type": "markdown",
   "metadata": {},
   "source": [
    "* Dictionaries are immutable\n",
    "* You can add, and even overwrite, keys as you wish"
   ]
  },
  {
   "cell_type": "code",
   "execution_count": 24,
   "metadata": {
    "collapsed": false
   },
   "outputs": [
    {
     "data": {
      "text/plain": [
       "{'0101010Q0': 'Magnesium Hydroxide',\n",
       " '0101010R0': 'Simeticone ',\n",
       " '0101010S0': 'Calcium Carbonate & Simeticone',\n",
       " '0103020P0': 'Pirenzepine ',\n",
       " '0105010A0': 'Aminosalicylic Acid'}"
      ]
     },
     "execution_count": 24,
     "metadata": {},
     "output_type": "execute_result"
    }
   ],
   "source": [
    "example_dictionary[\"0105010A0\"] = \"Aminosalicylic Acid\"\n",
    "example_dictionary"
   ]
  },
  {
   "cell_type": "code",
   "execution_count": 25,
   "metadata": {
    "collapsed": false
   },
   "outputs": [
    {
     "data": {
      "text/plain": [
       "{'0101010Q0': 'Magnesium Hydroxide',\n",
       " '0101010R0': 'Simeticone ',\n",
       " '0101010S0': 'Calcium Carbonate & Simeticone',\n",
       " '0103020P0': 'Pirenzepine ',\n",
       " '0105010A0': 'Fake drug'}"
      ]
     },
     "execution_count": 25,
     "metadata": {},
     "output_type": "execute_result"
    }
   ],
   "source": [
    "example_dictionary[\"0105010A0\"] = \"Fake drug\"\n",
    "example_dictionary"
   ]
  },
  {
   "cell_type": "markdown",
   "metadata": {},
   "source": [
    "* You can just as easily remove elements from the dictionary\n",
    "* You can delete using the _del_ command\n",
    "* Lets delete the last entry which is wrong"
   ]
  },
  {
   "cell_type": "code",
   "execution_count": 26,
   "metadata": {
    "collapsed": false
   },
   "outputs": [
    {
     "data": {
      "text/plain": [
       "{'0101010Q0': 'Magnesium Hydroxide',\n",
       " '0101010R0': 'Simeticone ',\n",
       " '0101010S0': 'Calcium Carbonate & Simeticone',\n",
       " '0103020P0': 'Pirenzepine '}"
      ]
     },
     "execution_count": 26,
     "metadata": {},
     "output_type": "execute_result"
    }
   ],
   "source": [
    "del(example_dictionary[\"0105010A0\"])\n",
    "example_dictionary"
   ]
  },
  {
   "cell_type": "markdown",
   "metadata": {},
   "source": [
    "* Dictionaries have some useful built-in functions \n",
    "* You can get a list of all the keys using _keys_\n",
    "* You can get a list of all the value using _values_"
   ]
  },
  {
   "cell_type": "code",
   "execution_count": 27,
   "metadata": {
    "collapsed": false
   },
   "outputs": [
    {
     "data": {
      "text/plain": [
       "['0101010R0', '0101010Q0', '0101010S0', '0103020P0']"
      ]
     },
     "execution_count": 27,
     "metadata": {},
     "output_type": "execute_result"
    }
   ],
   "source": [
    "example_dictionary.keys()"
   ]
  },
  {
   "cell_type": "code",
   "execution_count": 28,
   "metadata": {
    "collapsed": false
   },
   "outputs": [
    {
     "data": {
      "text/plain": [
       "['Simeticone ',\n",
       " 'Magnesium Hydroxide',\n",
       " 'Calcium Carbonate & Simeticone',\n",
       " 'Pirenzepine ']"
      ]
     },
     "execution_count": 28,
     "metadata": {},
     "output_type": "execute_result"
    }
   ],
   "source": [
    "example_dictionary.values()"
   ]
  },
  {
   "cell_type": "markdown",
   "metadata": {},
   "source": [
    "* Dictionaries are more cool than you think\n",
    "* All keys  are unique - very helpful\n",
    "* Values can be anything ! i.e. strings, lists, numbers, etc.\n",
    "* They stretch and shrink as you see fit\n",
    "* You will use them over and over again to create lookups"
   ]
  },
  {
   "cell_type": "markdown",
   "metadata": {},
   "source": [
    "### Exercise\n",
    "\n",
    "* Create a dictionary of lists for the following data\n",
    "* A patient can have 1 to 5 heart rate measurements\n",
    "\n",
    "| patid | HR1 | HR2 | HR3 | HR4 | HR5 |\n",
    "| ----- | --- | ----| ----| ----| ----|\n",
    "| 1001| 95 | 123 | 110 | 90 | 100 | \n",
    "| 1002 | 110 | 150 | 160 | 87 | |\n",
    "| 1003 | 120 | 120 |  | 200 | | |\n",
    "\n",
    "* Print all the patients in the dictionary\n",
    "* Get all measurements for patient 1003\n",
    "* Delete all measurements for patient 1001"
   ]
  },
  {
   "cell_type": "markdown",
   "metadata": {},
   "source": [
    "## Flow Control\n"
   ]
  },
  {
   "cell_type": "markdown",
   "metadata": {},
   "source": [
    "* Often you want different outcomes depending on the value of some variable, in programming terms this is known as flow control.\n",
    "* In Python like many other programming language you can use the operators , we learnt about earlier to construct statements that produce respoonses based on the input\n",
    "* You might be already be familiar with some of the statements:\n",
    "\n",
    "\n",
    "| Statement | Why/What | \n",
    "| ------------- | -------- | \n",
    "| if | evaluates a following condition and executes code if the condition is TRUE |\n",
    "| else | following an if statement, when the condition is not met, it will execute the code following else statement |\n",
    "| elif | can link multiple statements allowing for further specification of the initial statement |\n",
    "| while | executes a group of statements as long as a condition is TRUE |\n",
    "| for | repeats a set of statements over a group of values |\n",
    "\n",
    "To see these statements in practice we take assign a single value to an object and perform tests based on its value:"
   ]
  },
  {
   "cell_type": "code",
   "execution_count": 1,
   "metadata": {
    "collapsed": false,
    "scrolled": true
   },
   "outputs": [
    {
     "name": "stdout",
     "output_type": "stream",
     "text": [
      "Obese\n"
     ]
    }
   ],
   "source": [
    "bmi_val=32.1\n",
    "if (bmi_val > 30):\n",
    "    print \"Obese\""
   ]
  },
  {
   "cell_type": "code",
   "execution_count": 11,
   "metadata": {
    "collapsed": false,
    "scrolled": true
   },
   "outputs": [
    {
     "name": "stdout",
     "output_type": "stream",
     "text": [
      "Normal\n"
     ]
    }
   ],
   "source": [
    "psa_level = 1.4\n",
    "if (psa_level <= 4.0):\n",
    "    print \"Normal\"\n",
    "else:\n",
    "    print \"Prostate biopsy recommended\""
   ]
  },
  {
   "cell_type": "markdown",
   "metadata": {},
   "source": [
    "## Iterations\n",
    "\n",
    "* A fundamental concept in programming \n",
    "* Enables you to perform the same operation on multiple values \n",
    "* For example, print out the geometric sequence with a common ratio of 2, from 1 to 200\n"
   ]
  },
  {
   "cell_type": "code",
   "execution_count": 1,
   "metadata": {
    "collapsed": false
   },
   "outputs": [
    {
     "name": "stdout",
     "output_type": "stream",
     "text": [
      "number:  1\n",
      "number:  2\n",
      "number:  4\n",
      "number:  8\n",
      "number:  16\n",
      "number:  32\n",
      "number:  64\n",
      "number:  128\n"
     ]
    }
   ],
   "source": [
    "number = 1\n",
    "while number < 200:\n",
    "    print \"number: \", number\n",
    "    number = number * 2"
   ]
  },
  {
   "cell_type": "code",
   "execution_count": 6,
   "metadata": {
    "collapsed": false
   },
   "outputs": [
    {
     "name": "stdout",
     "output_type": "stream",
     "text": [
      "patient identifier 1001\n",
      "patient identifier 1242\n",
      "patient identifier 2422\n",
      "done\n"
     ]
    }
   ],
   "source": [
    "patients = ['1001', '1242', '2422']\n",
    "for patient in patients:\n",
    "    print 'patient identifier', patient  \n",
    "print 'done'"
   ]
  },
  {
   "cell_type": "code",
   "execution_count": 7,
   "metadata": {
    "collapsed": false
   },
   "outputs": [
    {
     "name": "stdout",
     "output_type": "stream",
     "text": [
      "patient identifier 1001\n",
      "patient identifier 1242\n",
      "patient identifier 2422\n",
      "done\n"
     ]
    }
   ],
   "source": [
    "i=0\n",
    "for patient in patients:\n",
    "    print 'patient identifier', patients[i]\n",
    "    i=i+1\n",
    "print 'done'"
   ]
  },
  {
   "cell_type": "markdown",
   "metadata": {},
   "source": [
    "The range function returns a list of numbers that range from zero to one less than the parameter.\n",
    "We can construct an index loop using for and an integer iterator"
   ]
  },
  {
   "cell_type": "code",
   "execution_count": 8,
   "metadata": {
    "collapsed": false
   },
   "outputs": [
    {
     "name": "stdout",
     "output_type": "stream",
     "text": [
      "[0, 1, 2, 3]\n"
     ]
    }
   ],
   "source": [
    "print range(4)"
   ]
  },
  {
   "cell_type": "code",
   "execution_count": 9,
   "metadata": {
    "collapsed": false
   },
   "outputs": [
    {
     "name": "stdout",
     "output_type": "stream",
     "text": [
      "number: 1\n",
      "number: 2\n",
      "number: 4\n",
      "number: 8\n",
      "number: 16\n",
      "number: 32\n",
      "number: 64\n",
      "number: 128\n",
      "number: 256\n",
      "number: 512\n",
      "number: 1024\n",
      "number: 2048\n",
      "number: 4096\n",
      "number: 8192\n",
      "number: 16384\n",
      "number: 32768\n",
      "number: 65536\n",
      "number: 131072\n",
      "number: 262144\n",
      "number: 524288\n",
      "number: 1048576\n",
      "number: 2097152\n",
      "number: 4194304\n",
      "number: 8388608\n",
      "number: 16777216\n",
      "number: 33554432\n",
      "number: 67108864\n",
      "number: 134217728\n",
      "number: 268435456\n",
      "number: 536870912\n",
      "number: 1073741824\n",
      "number: 2147483648\n",
      "number: 4294967296\n",
      "number: 8589934592\n",
      "number: 17179869184\n",
      "number: 34359738368\n",
      "number: 68719476736\n",
      "number: 137438953472\n",
      "number: 274877906944\n",
      "number: 549755813888\n",
      "number: 1099511627776\n",
      "number: 2199023255552\n",
      "number: 4398046511104\n",
      "number: 8796093022208\n",
      "number: 17592186044416\n",
      "number: 35184372088832\n",
      "number: 70368744177664\n",
      "number: 140737488355328\n",
      "number: 281474976710656\n",
      "number: 562949953421312\n",
      "number: 1125899906842624\n",
      "number: 2251799813685248\n",
      "number: 4503599627370496\n",
      "number: 9007199254740992\n",
      "number: 18014398509481984\n",
      "number: 36028797018963968\n",
      "number: 72057594037927936\n",
      "number: 144115188075855872\n",
      "number: 288230376151711744\n",
      "number: 576460752303423488\n",
      "number: 1152921504606846976\n",
      "number: 2305843009213693952\n",
      "number: 4611686018427387904\n",
      "number: 9223372036854775808\n",
      "number: 18446744073709551616\n",
      "number: 36893488147419103232\n",
      "number: 73786976294838206464\n",
      "number: 147573952589676412928\n",
      "number: 295147905179352825856\n",
      "number: 590295810358705651712\n",
      "number: 1180591620717411303424\n",
      "number: 2361183241434822606848\n",
      "number: 4722366482869645213696\n",
      "number: 9444732965739290427392\n",
      "number: 18889465931478580854784\n",
      "number: 37778931862957161709568\n",
      "number: 75557863725914323419136\n",
      "number: 151115727451828646838272\n",
      "number: 302231454903657293676544\n",
      "number: 604462909807314587353088\n",
      "number: 1208925819614629174706176\n",
      "number: 2417851639229258349412352\n",
      "number: 4835703278458516698824704\n",
      "number: 9671406556917033397649408\n",
      "number: 19342813113834066795298816\n",
      "number: 38685626227668133590597632\n",
      "number: 77371252455336267181195264\n",
      "number: 154742504910672534362390528\n",
      "number: 309485009821345068724781056\n",
      "number: 618970019642690137449562112\n",
      "number: 1237940039285380274899124224\n",
      "number: 2475880078570760549798248448\n",
      "number: 4951760157141521099596496896\n",
      "number: 9903520314283042199192993792\n",
      "number: 19807040628566084398385987584\n",
      "number: 39614081257132168796771975168\n",
      "number: 79228162514264337593543950336\n",
      "number: 158456325028528675187087900672\n",
      "number: 316912650057057350374175801344\n",
      "number: 633825300114114700748351602688\n",
      "number: 1267650600228229401496703205376\n",
      "number: 2535301200456458802993406410752\n",
      "number: 5070602400912917605986812821504\n",
      "number: 10141204801825835211973625643008\n",
      "number: 20282409603651670423947251286016\n",
      "number: 40564819207303340847894502572032\n",
      "number: 81129638414606681695789005144064\n",
      "number: 162259276829213363391578010288128\n",
      "number: 324518553658426726783156020576256\n",
      "number: 649037107316853453566312041152512\n",
      "number: 1298074214633706907132624082305024\n",
      "number: 2596148429267413814265248164610048\n",
      "number: 5192296858534827628530496329220096\n",
      "number: 10384593717069655257060992658440192\n",
      "number: 20769187434139310514121985316880384\n",
      "number: 41538374868278621028243970633760768\n",
      "number: 83076749736557242056487941267521536\n",
      "number: 166153499473114484112975882535043072\n",
      "number: 332306998946228968225951765070086144\n",
      "number: 664613997892457936451903530140172288\n",
      "number: 1329227995784915872903807060280344576\n",
      "number: 2658455991569831745807614120560689152\n",
      "number: 5316911983139663491615228241121378304\n",
      "number: 10633823966279326983230456482242756608\n",
      "number: 21267647932558653966460912964485513216\n",
      "number: 42535295865117307932921825928971026432\n",
      "number: 85070591730234615865843651857942052864\n",
      "number: 170141183460469231731687303715884105728\n",
      "number: 340282366920938463463374607431768211456\n",
      "number: 680564733841876926926749214863536422912\n",
      "number: 1361129467683753853853498429727072845824\n",
      "number: 2722258935367507707706996859454145691648\n",
      "number: 5444517870735015415413993718908291383296\n",
      "number: 10889035741470030830827987437816582766592\n",
      "number: 21778071482940061661655974875633165533184\n",
      "number: 43556142965880123323311949751266331066368\n",
      "number: 87112285931760246646623899502532662132736\n",
      "number: 174224571863520493293247799005065324265472\n",
      "number: 348449143727040986586495598010130648530944\n",
      "number: 696898287454081973172991196020261297061888\n",
      "number: 1393796574908163946345982392040522594123776\n",
      "number: 2787593149816327892691964784081045188247552\n",
      "number: 5575186299632655785383929568162090376495104\n",
      "number: 11150372599265311570767859136324180752990208\n",
      "number: 22300745198530623141535718272648361505980416\n",
      "number: 44601490397061246283071436545296723011960832\n",
      "number: 89202980794122492566142873090593446023921664\n",
      "number: 178405961588244985132285746181186892047843328\n",
      "number: 356811923176489970264571492362373784095686656\n",
      "number: 713623846352979940529142984724747568191373312\n",
      "number: 1427247692705959881058285969449495136382746624\n",
      "number: 2854495385411919762116571938898990272765493248\n",
      "number: 5708990770823839524233143877797980545530986496\n",
      "number: 11417981541647679048466287755595961091061972992\n",
      "number: 22835963083295358096932575511191922182123945984\n",
      "number: 45671926166590716193865151022383844364247891968\n",
      "number: 91343852333181432387730302044767688728495783936\n",
      "number: 182687704666362864775460604089535377456991567872\n",
      "number: 365375409332725729550921208179070754913983135744\n",
      "number: 730750818665451459101842416358141509827966271488\n",
      "number: 1461501637330902918203684832716283019655932542976\n",
      "number: 2923003274661805836407369665432566039311865085952\n",
      "number: 5846006549323611672814739330865132078623730171904\n",
      "number: 11692013098647223345629478661730264157247460343808\n",
      "number: 23384026197294446691258957323460528314494920687616\n",
      "number: 46768052394588893382517914646921056628989841375232\n",
      "number: 93536104789177786765035829293842113257979682750464\n",
      "number: 187072209578355573530071658587684226515959365500928\n",
      "number: 374144419156711147060143317175368453031918731001856\n",
      "number: 748288838313422294120286634350736906063837462003712\n",
      "number: 1496577676626844588240573268701473812127674924007424\n",
      "number: 2993155353253689176481146537402947624255349848014848\n",
      "number: 5986310706507378352962293074805895248510699696029696\n",
      "number: 11972621413014756705924586149611790497021399392059392\n",
      "number: 23945242826029513411849172299223580994042798784118784\n",
      "number: 47890485652059026823698344598447161988085597568237568\n",
      "number: 95780971304118053647396689196894323976171195136475136\n",
      "number: 191561942608236107294793378393788647952342390272950272\n",
      "number: 383123885216472214589586756787577295904684780545900544\n",
      "number: 766247770432944429179173513575154591809369561091801088\n",
      "number: 1532495540865888858358347027150309183618739122183602176\n",
      "number: 3064991081731777716716694054300618367237478244367204352\n",
      "number: 6129982163463555433433388108601236734474956488734408704\n",
      "number: 12259964326927110866866776217202473468949912977468817408\n",
      "number: 24519928653854221733733552434404946937899825954937634816\n",
      "number: 49039857307708443467467104868809893875799651909875269632\n",
      "number: 98079714615416886934934209737619787751599303819750539264\n",
      "number: 196159429230833773869868419475239575503198607639501078528\n",
      "number: 392318858461667547739736838950479151006397215279002157056\n",
      "number: 784637716923335095479473677900958302012794430558004314112\n",
      "number: 1569275433846670190958947355801916604025588861116008628224\n",
      "number: 3138550867693340381917894711603833208051177722232017256448\n",
      "number: 6277101735386680763835789423207666416102355444464034512896\n",
      "number: 12554203470773361527671578846415332832204710888928069025792\n",
      "number: 25108406941546723055343157692830665664409421777856138051584\n",
      "number: 50216813883093446110686315385661331328818843555712276103168\n",
      "number: 100433627766186892221372630771322662657637687111424552206336\n",
      "number: 200867255532373784442745261542645325315275374222849104412672\n",
      "number: 401734511064747568885490523085290650630550748445698208825344\n"
     ]
    }
   ],
   "source": [
    "number=1\n",
    "for i in range(1,200):\n",
    "    print \"number:\", number\n",
    "    number=number*2"
   ]
  },
  {
   "cell_type": "markdown",
   "metadata": {
    "collapsed": false
   },
   "source": [
    "### Excercises\n",
    "\n",
    "* Based on the BMI, print a message if the patient is overweight\n",
    "* Using elif, categorize a given variable bmi_val (body mass index) into normal, overweight, and obese\n",
    "* Create a list of 5 BMI values, loop through them, print the value, the location of each one, and the category"
   ]
  },
  {
   "cell_type": "markdown",
   "metadata": {},
   "source": [
    "## Functions\n",
    "A function is simply a type of procedure used to perform an action. In Python functions are declared using **def** and returned using **return**\n",
    " \n",
    "Python interpreter also has a number of functions built into it that are always available. these are listed below \n",
    "\n",
    "| Built-in Functions |             |              |             |                |\n",
    "|--------------------|-------------|--------------|-------------|----------------|\n",
    "| abs()              | divmod()    | input()      | open()      | staticmethod() |\n",
    "| all()              | enumerate() | int()        | ord()       | str()          |\n",
    "| any()              | eval()      | isinstance() | pow()       | sum()          |\n",
    "| basestring()       | execfile()  | issubclass() | print()     | super()        |\n",
    "| bin()              | file()      | iter()       | property()  | tuple()        |\n",
    "| bool()             | filter()    | len()        | range()     | type()         |\n",
    "| bytearray()        | float()     | list()       | raw_input() | unichr()       |\n",
    "| callable()         | format()    | locals()     | reduce()    | unicode()      |\n",
    "| chr()              | frozenset() | long()       | reload()    | vars()         |\n",
    "| classmethod()      | getattr()   | map()        | repr()      | xrange()       |\n",
    "| cmp()              | globals()   | max()        | reversed()  | zip()          |\n",
    "| compile()          | hasattr()   | memoryview() | round()     | __import__()   |\n",
    "| complex()          | hash()      | min()        | set()       |                |\n",
    "| delattr()          | help()      | next()       | setattr()   |                |\n",
    "| dict()             | hex()       | object()     | slice()     |                |\n",
    "| dir()              | id()        | oct()        | sorted()    |                |\n",
    "\n",
    "Let's first try one of the built in functions:\n"
   ]
  },
  {
   "cell_type": "code",
   "execution_count": 5,
   "metadata": {
    "collapsed": false
   },
   "outputs": [
    {
     "data": {
      "text/plain": [
       "-1"
      ]
     },
     "execution_count": 5,
     "metadata": {},
     "output_type": "execute_result"
    }
   ],
   "source": [
    "cmp(10,100)"
   ]
  },
  {
   "cell_type": "markdown",
   "metadata": {},
   "source": [
    "cmp(x, y) - Compares two objects x and y and returns an integer according to the outcome. The return value is negative if x < y, zero if x == y and strictly positive if x > y.\n",
    "\n",
    "Examples of other built in functions are available from [https://docs.python.org/2/library/functions.html#divmod]"
   ]
  },
  {
   "cell_type": "code",
   "execution_count": 12,
   "metadata": {
    "collapsed": false
   },
   "outputs": [
    {
     "data": {
      "text/plain": [
       "3.14"
      ]
     },
     "execution_count": 12,
     "metadata": {},
     "output_type": "execute_result"
    }
   ],
   "source": [
    "abs(-3.14)"
   ]
  },
  {
   "cell_type": "markdown",
   "metadata": {},
   "source": [
    "Some functions allow you to accept default variables:"
   ]
  },
  {
   "cell_type": "code",
   "execution_count": 14,
   "metadata": {
    "collapsed": false
   },
   "outputs": [],
   "source": [
    "def func_blood_pressure(patient_id, systolic = 120, diastolic=80):\n",
    "    print patient_id, systolic, diastolic"
   ]
  },
  {
   "cell_type": "code",
   "execution_count": 15,
   "metadata": {
    "collapsed": false
   },
   "outputs": [
    {
     "name": "stdout",
     "output_type": "stream",
     "text": [
      "1001 120 80\n"
     ]
    }
   ],
   "source": [
    "func_blood_pressure(1001)"
   ]
  },
  {
   "cell_type": "code",
   "execution_count": 16,
   "metadata": {
    "collapsed": false
   },
   "outputs": [
    {
     "name": "stdout",
     "output_type": "stream",
     "text": [
      "1002 100 60\n"
     ]
    }
   ],
   "source": [
    "func_blood_pressure(1002,100,60)"
   ]
  },
  {
   "cell_type": "markdown",
   "metadata": {},
   "source": [
    "## Anonymous (lambda) Functions\n",
    "* Simple, short functions\n",
    "* Result is the returned value:"
   ]
  },
  {
   "cell_type": "code",
   "execution_count": 17,
   "metadata": {
    "collapsed": false
   },
   "outputs": [
    {
     "data": {
      "text/plain": [
       "16"
      ]
     },
     "execution_count": 17,
     "metadata": {},
     "output_type": "execute_result"
    }
   ],
   "source": [
    "g = lambda u:u*u\n",
    "g(4)"
   ]
  },
  {
   "cell_type": "markdown",
   "metadata": {},
   "source": [
    "Lambda functions are most useful when used in combination with a map function. Map functions take two arguements: the function and a sequence, it applies the function to all elements of the sequence:"
   ]
  },
  {
   "cell_type": "code",
   "execution_count": 18,
   "metadata": {
    "collapsed": false
   },
   "outputs": [
    {
     "name": "stdout",
     "output_type": "stream",
     "text": [
      "[102.56, 97.7, 99.14, 100.03999999999999]\n"
     ]
    }
   ],
   "source": [
    "Celsius = [39.2, 36.5, 37.3, 37.8]\n",
    "Fahrenheit = map(lambda x: (float(9)/5)*x + 32, Celsius)\n",
    "print Fahrenheit"
   ]
  },
  {
   "cell_type": "code",
   "execution_count": 3,
   "metadata": {
    "collapsed": false
   },
   "outputs": [
    {
     "name": "stdout",
     "output_type": "stream",
     "text": [
      "[39.2, 36.5, 37.300000000000004, 37.800000000000004]\n"
     ]
    }
   ],
   "source": [
    "Fahrenheit = [102.56, 97.7, 99.14, 100.04]\n",
    "Celsius = map(lambda x: (float(5)/9)*(x-32), Fahrenheit)\n",
    "print Celsius"
   ]
  },
  {
   "cell_type": "markdown",
   "metadata": {},
   "source": [
    "### Exercise\n",
    "\n",
    "* Write a lambda function that converts weight from pounds (lbs) to kilograms (kg)"
   ]
  },
  {
   "cell_type": "markdown",
   "metadata": {},
   "source": [
    "## Error Handling\n",
    "* Even if a statement or expression is correct, it may cause an error during execution\n",
    "* Errors detected during execution are called exceptions and are not unconditionally fatal"
   ]
  },
  {
   "cell_type": "code",
   "execution_count": 5,
   "metadata": {
    "collapsed": false
   },
   "outputs": [
    {
     "ename": "ZeroDivisionError",
     "evalue": "integer division or modulo by zero",
     "output_type": "error",
     "traceback": [
      "\u001b[1;31m---------------------------------------------------------------------------\u001b[0m",
      "\u001b[1;31mZeroDivisionError\u001b[0m                         Traceback (most recent call last)",
      "\u001b[1;32m<ipython-input-5-ad7746c651b5>\u001b[0m in \u001b[0;36m<module>\u001b[1;34m()\u001b[0m\n\u001b[0;32m      2\u001b[0m \u001b[0msum\u001b[0m \u001b[1;33m=\u001b[0m \u001b[1;36m0\u001b[0m\u001b[1;33m\u001b[0m\u001b[0m\n\u001b[0;32m      3\u001b[0m \u001b[1;32mfor\u001b[0m \u001b[0mx\u001b[0m \u001b[1;32min\u001b[0m \u001b[0mpatient_measures\u001b[0m\u001b[1;33m:\u001b[0m\u001b[1;33m\u001b[0m\u001b[0m\n\u001b[1;32m----> 4\u001b[1;33m     \u001b[0msum\u001b[0m \u001b[1;33m=\u001b[0m \u001b[0msum\u001b[0m\u001b[1;33m+\u001b[0m\u001b[1;36m100\u001b[0m\u001b[1;33m/\u001b[0m\u001b[0mx\u001b[0m\u001b[1;33m\u001b[0m\u001b[0m\n\u001b[0m\u001b[0;32m      5\u001b[0m \u001b[1;33m\u001b[0m\u001b[0m\n\u001b[0;32m      6\u001b[0m \u001b[1;32mprint\u001b[0m \u001b[0msum\u001b[0m\u001b[1;33m\u001b[0m\u001b[0m\n",
      "\u001b[1;31mZeroDivisionError\u001b[0m: integer division or modulo by zero"
     ]
    }
   ],
   "source": [
    "patient_measures = [153.3, 263.23, 0, 235.53]\n",
    "sum = 0\n",
    "for x in patient_measures:\n",
    "    sum = sum+100/x\n",
    "\n",
    "print sum"
   ]
  },
  {
   "cell_type": "markdown",
   "metadata": {},
   "source": [
    "Seeing the error message from the above expression, we can use this information to allow an exception:"
   ]
  },
  {
   "cell_type": "code",
   "execution_count": 6,
   "metadata": {
    "collapsed": false
   },
   "outputs": [
    {
     "name": "stdout",
     "output_type": "stream",
     "text": [
      "sum: 1.45678599353 number of errors 1\n"
     ]
    }
   ],
   "source": [
    "sum = 0\n",
    "errors = 0\n",
    "patient_measures = [153.3, 263.23, 0, 235.53]\n",
    "for x in patient_measures:\n",
    "    try:\n",
    "        sum = sum+100/x\n",
    "    except (ZeroDivisionError):\n",
    "            errors = errors+1\n",
    "\n",
    "print \"sum:\", sum, \"number of errors\", errors"
   ]
  },
  {
   "cell_type": "markdown",
   "metadata": {},
   "source": [
    "### Exercise\n",
    "\n",
    "* Extend the BMI funnction from above so that a division by zero is handled"
   ]
  }
 ],
 "metadata": {
  "anaconda-cloud": {},
  "kernelspec": {
   "display_name": "Python [default]",
   "language": "python",
   "name": "python2"
  },
  "language_info": {
   "codemirror_mode": {
    "name": "ipython",
    "version": 2
   },
   "file_extension": ".py",
   "mimetype": "text/x-python",
   "name": "python",
   "nbconvert_exporter": "python",
   "pygments_lexer": "ipython2",
   "version": "2.7.12"
  }
 },
 "nbformat": 4,
 "nbformat_minor": 0
}
