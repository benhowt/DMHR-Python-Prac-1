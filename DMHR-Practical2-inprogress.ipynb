{
 "cells": [
  {
   "cell_type": "markdown",
   "metadata": {},
   "source": [
    "# Pandas"
   ]
  },
  {
   "cell_type": "markdown",
   "metadata": {},
   "source": [
    "## Create a pandas dataframe from a dictionary"
   ]
  },
  {
   "cell_type": "code",
   "execution_count": 1,
   "metadata": {
    "collapsed": true
   },
   "outputs": [],
   "source": [
    "import pandas as pd\n",
    "import numpy as np"
   ]
  },
  {
   "cell_type": "code",
   "execution_count": 2,
   "metadata": {
    "collapsed": false,
    "scrolled": true
   },
   "outputs": [
    {
     "data": {
      "text/html": [
       "<div>\n",
       "<table border=\"1\" class=\"dataframe\">\n",
       "  <thead>\n",
       "    <tr style=\"text-align: right;\">\n",
       "      <th></th>\n",
       "      <th>patid</th>\n",
       "      <th>systolic</th>\n",
       "      <th>diastolic</th>\n",
       "      <th>bmi</th>\n",
       "    </tr>\n",
       "  </thead>\n",
       "  <tbody>\n",
       "    <tr>\n",
       "      <th>0</th>\n",
       "      <td>1001</td>\n",
       "      <td>120</td>\n",
       "      <td>79</td>\n",
       "      <td>18.60</td>\n",
       "    </tr>\n",
       "    <tr>\n",
       "      <th>1</th>\n",
       "      <td>2001</td>\n",
       "      <td>98</td>\n",
       "      <td>80</td>\n",
       "      <td>23.44</td>\n",
       "    </tr>\n",
       "    <tr>\n",
       "      <th>2</th>\n",
       "      <td>3001</td>\n",
       "      <td>109</td>\n",
       "      <td>100</td>\n",
       "      <td>25.00</td>\n",
       "    </tr>\n",
       "    <tr>\n",
       "      <th>3</th>\n",
       "      <td>4001</td>\n",
       "      <td>159</td>\n",
       "      <td>89</td>\n",
       "      <td>37.00</td>\n",
       "    </tr>\n",
       "    <tr>\n",
       "      <th>4</th>\n",
       "      <td>5001</td>\n",
       "      <td>170</td>\n",
       "      <td>99</td>\n",
       "      <td>39.00</td>\n",
       "    </tr>\n",
       "  </tbody>\n",
       "</table>\n",
       "</div>"
      ],
      "text/plain": [
       "   patid  systolic  diastolic    bmi\n",
       "0   1001       120         79  18.60\n",
       "1   2001        98         80  23.44\n",
       "2   3001       109        100  25.00\n",
       "3   4001       159         89  37.00\n",
       "4   5001       170         99  39.00"
      ]
     },
     "execution_count": 2,
     "metadata": {},
     "output_type": "execute_result"
    }
   ],
   "source": [
    "data = {\n",
    "    'patid' : [1001,2001,3001,4001,5001],\n",
    "    'systolic' : [120,98,109,159,170],\n",
    "    'diastolic' : [79,80,100,89,99],\n",
    "    'bmi' : [18.6,23.44,25,37,39]}\n",
    "cols = ['patid','systolic','diastolic','bmi']\n",
    "\n",
    "patient_bp = pd.DataFrame(data,columns=cols)\n",
    "\n",
    "patient_bp"
   ]
  },
  {
   "cell_type": "markdown",
   "metadata": {},
   "source": [
    "### Check the type of a pandas dataframe"
   ]
  },
  {
   "cell_type": "code",
   "execution_count": 3,
   "metadata": {
    "collapsed": false
   },
   "outputs": [
    {
     "data": {
      "text/plain": [
       "pandas.core.frame.DataFrame"
      ]
     },
     "execution_count": 3,
     "metadata": {},
     "output_type": "execute_result"
    }
   ],
   "source": [
    "type(patient_bp)"
   ]
  },
  {
   "cell_type": "markdown",
   "metadata": {},
   "source": [
    "## GP practice information file"
   ]
  },
  {
   "cell_type": "markdown",
   "metadata": {},
   "source": [
    "Read in the practice information data file to a pandas dataframe. "
   ]
  },
  {
   "cell_type": "code",
   "execution_count": 4,
   "metadata": {
    "collapsed": false
   },
   "outputs": [],
   "source": [
    "filename_practice=\"C:/Teaching/DMHR/python_data_methods/data/T201502ADDR+BNFT.CSV\"\n",
    "lookup_practice = pd.read_csv(filename_practice)"
   ]
  },
  {
   "cell_type": "code",
   "execution_count": 5,
   "metadata": {
    "collapsed": false
   },
   "outputs": [
    {
     "data": {
      "text/html": [
       "<div>\n",
       "<table border=\"1\" class=\"dataframe\">\n",
       "  <thead>\n",
       "    <tr style=\"text-align: right;\">\n",
       "      <th></th>\n",
       "      <th>201502</th>\n",
       "      <th>A81001</th>\n",
       "      <th>THE DENSHAM SURGERY</th>\n",
       "      <th>THE HEALTH CENTRE</th>\n",
       "      <th>LAWSON STREET</th>\n",
       "      <th>STOCKTON</th>\n",
       "      <th>CLEVELAND</th>\n",
       "      <th>TS18 1HU</th>\n",
       "    </tr>\n",
       "  </thead>\n",
       "  <tbody>\n",
       "    <tr>\n",
       "      <th>0</th>\n",
       "      <td>201502</td>\n",
       "      <td>A81002</td>\n",
       "      <td>QUEENS PARK MEDICAL CENTRE</td>\n",
       "      <td>QUEENS PARK MEDICAL CTR</td>\n",
       "      <td>FARRER STREET</td>\n",
       "      <td>STOCKTON ON TEES</td>\n",
       "      <td>CLEVELAND</td>\n",
       "      <td>TS18 2AW</td>\n",
       "    </tr>\n",
       "    <tr>\n",
       "      <th>1</th>\n",
       "      <td>201502</td>\n",
       "      <td>A81003</td>\n",
       "      <td>THE HEALTH CENTRE</td>\n",
       "      <td>THE HEALTH CENTRE</td>\n",
       "      <td>VICTORIA ROAD</td>\n",
       "      <td>HARTLEPOOL</td>\n",
       "      <td>CLEVELAND</td>\n",
       "      <td>TS26 8DB</td>\n",
       "    </tr>\n",
       "    <tr>\n",
       "      <th>2</th>\n",
       "      <td>201502</td>\n",
       "      <td>A81004</td>\n",
       "      <td>WOODLANDS ROAD SURGERY</td>\n",
       "      <td>6 WOODLANDS ROAD</td>\n",
       "      <td></td>\n",
       "      <td>MIDDLESBROUGH</td>\n",
       "      <td>CLEVELAND</td>\n",
       "      <td>TS1 3BE</td>\n",
       "    </tr>\n",
       "    <tr>\n",
       "      <th>3</th>\n",
       "      <td>201502</td>\n",
       "      <td>A81005</td>\n",
       "      <td>SPRINGWOOD SURGERY</td>\n",
       "      <td>SPRINGWOOD SURGERY</td>\n",
       "      <td>RECTORY LANE</td>\n",
       "      <td>GUISBOROUGH</td>\n",
       "      <td></td>\n",
       "      <td>TS14 7DJ</td>\n",
       "    </tr>\n",
       "    <tr>\n",
       "      <th>4</th>\n",
       "      <td>201502</td>\n",
       "      <td>A81006</td>\n",
       "      <td>TENNANT STREET MEDICAL PRACTICE</td>\n",
       "      <td>TENNANT ST MED PRACT</td>\n",
       "      <td>FARRER STREET</td>\n",
       "      <td>STOCKTON ON TEES</td>\n",
       "      <td>CLEVELAND</td>\n",
       "      <td>TS18 2AT</td>\n",
       "    </tr>\n",
       "  </tbody>\n",
       "</table>\n",
       "</div>"
      ],
      "text/plain": [
       "   201502  A81001  THE DENSHAM SURGERY                       \\\n",
       "0  201502  A81002  QUEENS PARK MEDICAL CENTRE                 \n",
       "1  201502  A81003  THE HEALTH CENTRE                          \n",
       "2  201502  A81004  WOODLANDS ROAD SURGERY                     \n",
       "3  201502  A81005  SPRINGWOOD SURGERY                         \n",
       "4  201502  A81006  TENNANT STREET MEDICAL PRACTICE            \n",
       "\n",
       "   THE HEALTH CENTRE          LAWSON STREET              \\\n",
       "0  QUEENS PARK MEDICAL CTR    FARRER STREET               \n",
       "1  THE HEALTH CENTRE          VICTORIA ROAD               \n",
       "2  6 WOODLANDS ROAD                                       \n",
       "3  SPRINGWOOD SURGERY         RECTORY LANE                \n",
       "4  TENNANT ST MED PRACT       FARRER STREET               \n",
       "\n",
       "   STOCKTON                   CLEVELAND                  TS18 1HU  \n",
       "0  STOCKTON ON TEES           CLEVELAND                  TS18 2AW  \n",
       "1  HARTLEPOOL                 CLEVELAND                  TS26 8DB  \n",
       "2  MIDDLESBROUGH              CLEVELAND                  TS1 3BE   \n",
       "3  GUISBOROUGH                                           TS14 7DJ  \n",
       "4  STOCKTON ON TEES           CLEVELAND                  TS18 2AT  "
      ]
     },
     "execution_count": 5,
     "metadata": {},
     "output_type": "execute_result"
    }
   ],
   "source": [
    "lookup_practice.head()"
   ]
  },
  {
   "cell_type": "markdown",
   "metadata": {},
   "source": [
    "Create custom column names and read in the file again using the column names as the header."
   ]
  },
  {
   "cell_type": "code",
   "execution_count": 6,
   "metadata": {
    "collapsed": false
   },
   "outputs": [],
   "source": [
    "cols = [ \n",
    "    'timePeriod', \n",
    "    'practice_code', \n",
    "    'practice_name', \n",
    "    'practice_organization', \n",
    "    'street', \n",
    "    'city', \n",
    "    'area', \n",
    "    'postcode' \n",
    "]\n",
    "\n",
    "lookup_practice = pd.read_csv(filename_practice, sep=',',header=None, names=cols,index_col=False)"
   ]
  },
  {
   "cell_type": "code",
   "execution_count": 7,
   "metadata": {
    "collapsed": false
   },
   "outputs": [
    {
     "data": {
      "text/html": [
       "<div>\n",
       "<table border=\"1\" class=\"dataframe\">\n",
       "  <thead>\n",
       "    <tr style=\"text-align: right;\">\n",
       "      <th></th>\n",
       "      <th>timePeriod</th>\n",
       "      <th>practice_code</th>\n",
       "      <th>practice_name</th>\n",
       "      <th>practice_organization</th>\n",
       "      <th>street</th>\n",
       "      <th>city</th>\n",
       "      <th>area</th>\n",
       "      <th>postcode</th>\n",
       "    </tr>\n",
       "  </thead>\n",
       "  <tbody>\n",
       "    <tr>\n",
       "      <th>0</th>\n",
       "      <td>201502</td>\n",
       "      <td>A81001</td>\n",
       "      <td>THE DENSHAM SURGERY</td>\n",
       "      <td>THE HEALTH CENTRE</td>\n",
       "      <td>LAWSON STREET</td>\n",
       "      <td>STOCKTON</td>\n",
       "      <td>CLEVELAND</td>\n",
       "      <td>TS18 1HU</td>\n",
       "    </tr>\n",
       "    <tr>\n",
       "      <th>1</th>\n",
       "      <td>201502</td>\n",
       "      <td>A81002</td>\n",
       "      <td>QUEENS PARK MEDICAL CENTRE</td>\n",
       "      <td>QUEENS PARK MEDICAL CTR</td>\n",
       "      <td>FARRER STREET</td>\n",
       "      <td>STOCKTON ON TEES</td>\n",
       "      <td>CLEVELAND</td>\n",
       "      <td>TS18 2AW</td>\n",
       "    </tr>\n",
       "    <tr>\n",
       "      <th>2</th>\n",
       "      <td>201502</td>\n",
       "      <td>A81003</td>\n",
       "      <td>THE HEALTH CENTRE</td>\n",
       "      <td>THE HEALTH CENTRE</td>\n",
       "      <td>VICTORIA ROAD</td>\n",
       "      <td>HARTLEPOOL</td>\n",
       "      <td>CLEVELAND</td>\n",
       "      <td>TS26 8DB</td>\n",
       "    </tr>\n",
       "    <tr>\n",
       "      <th>3</th>\n",
       "      <td>201502</td>\n",
       "      <td>A81004</td>\n",
       "      <td>WOODLANDS ROAD SURGERY</td>\n",
       "      <td>6 WOODLANDS ROAD</td>\n",
       "      <td></td>\n",
       "      <td>MIDDLESBROUGH</td>\n",
       "      <td>CLEVELAND</td>\n",
       "      <td>TS1 3BE</td>\n",
       "    </tr>\n",
       "    <tr>\n",
       "      <th>4</th>\n",
       "      <td>201502</td>\n",
       "      <td>A81005</td>\n",
       "      <td>SPRINGWOOD SURGERY</td>\n",
       "      <td>SPRINGWOOD SURGERY</td>\n",
       "      <td>RECTORY LANE</td>\n",
       "      <td>GUISBOROUGH</td>\n",
       "      <td></td>\n",
       "      <td>TS14 7DJ</td>\n",
       "    </tr>\n",
       "  </tbody>\n",
       "</table>\n",
       "</div>"
      ],
      "text/plain": [
       "   timePeriod practice_code                             practice_name  \\\n",
       "0      201502        A81001  THE DENSHAM SURGERY                        \n",
       "1      201502        A81002  QUEENS PARK MEDICAL CENTRE                 \n",
       "2      201502        A81003  THE HEALTH CENTRE                          \n",
       "3      201502        A81004  WOODLANDS ROAD SURGERY                     \n",
       "4      201502        A81005  SPRINGWOOD SURGERY                         \n",
       "\n",
       "       practice_organization                     street  \\\n",
       "0  THE HEALTH CENTRE          LAWSON STREET               \n",
       "1  QUEENS PARK MEDICAL CTR    FARRER STREET               \n",
       "2  THE HEALTH CENTRE          VICTORIA ROAD               \n",
       "3  6 WOODLANDS ROAD                                       \n",
       "4  SPRINGWOOD SURGERY         RECTORY LANE                \n",
       "\n",
       "                        city                       area  postcode  \n",
       "0  STOCKTON                   CLEVELAND                  TS18 1HU  \n",
       "1  STOCKTON ON TEES           CLEVELAND                  TS18 2AW  \n",
       "2  HARTLEPOOL                 CLEVELAND                  TS26 8DB  \n",
       "3  MIDDLESBROUGH              CLEVELAND                  TS1 3BE   \n",
       "4  GUISBOROUGH                                           TS14 7DJ  "
      ]
     },
     "execution_count": 7,
     "metadata": {},
     "output_type": "execute_result"
    }
   ],
   "source": [
    "lookup_practice.head()"
   ]
  },
  {
   "cell_type": "markdown",
   "metadata": {},
   "source": [
    "Explore the data using built-in methods. Hint: use the tab key to list the methods available. shape,columns, dtypes, head, tail, describe."
   ]
  },
  {
   "cell_type": "code",
   "execution_count": 8,
   "metadata": {
    "collapsed": false
   },
   "outputs": [
    {
     "data": {
      "text/plain": [
       "(9903, 8)"
      ]
     },
     "execution_count": 8,
     "metadata": {},
     "output_type": "execute_result"
    }
   ],
   "source": [
    "#Try out the .shape method:\n",
    "\n",
    "lookup_practice.shape"
   ]
  },
  {
   "cell_type": "code",
   "execution_count": 9,
   "metadata": {
    "collapsed": false
   },
   "outputs": [
    {
     "data": {
      "text/plain": [
       "Index([u'timePeriod', u'practice_code', u'practice_name',\n",
       "       u'practice_organization', u'street', u'city', u'area', u'postcode'],\n",
       "      dtype='object')"
      ]
     },
     "execution_count": 9,
     "metadata": {},
     "output_type": "execute_result"
    }
   ],
   "source": [
    "#Try out the .columns method:\n",
    "\n",
    "lookup_practice.columns"
   ]
  },
  {
   "cell_type": "markdown",
   "metadata": {},
   "source": [
    "### Keys and columns are the same command"
   ]
  },
  {
   "cell_type": "code",
   "execution_count": 10,
   "metadata": {
    "collapsed": false
   },
   "outputs": [
    {
     "data": {
      "text/plain": [
       "Index([u'timePeriod', u'practice_code', u'practice_name',\n",
       "       u'practice_organization', u'street', u'city', u'area', u'postcode'],\n",
       "      dtype='object')"
      ]
     },
     "execution_count": 10,
     "metadata": {},
     "output_type": "execute_result"
    }
   ],
   "source": [
    "lookup_practice.keys()"
   ]
  },
  {
   "cell_type": "markdown",
   "metadata": {},
   "source": [
    "The main types stored in pandas objects are float, int, bool, datetime, timedelta[ns], category (in >= 0.15.0), and object. \n",
    "In addition these dtypes have item sizes, e.g. int64 and int32."
   ]
  },
  {
   "cell_type": "code",
   "execution_count": 11,
   "metadata": {
    "collapsed": false
   },
   "outputs": [
    {
     "data": {
      "text/plain": [
       "timePeriod                int64\n",
       "practice_code            object\n",
       "practice_name            object\n",
       "practice_organization    object\n",
       "street                   object\n",
       "city                     object\n",
       "area                     object\n",
       "postcode                 object\n",
       "dtype: object"
      ]
     },
     "execution_count": 11,
     "metadata": {},
     "output_type": "execute_result"
    }
   ],
   "source": [
    "lookup_practice.dtypes"
   ]
  },
  {
   "cell_type": "code",
   "execution_count": 12,
   "metadata": {
    "collapsed": false
   },
   "outputs": [
    {
     "data": {
      "text/html": [
       "<div>\n",
       "<table border=\"1\" class=\"dataframe\">\n",
       "  <thead>\n",
       "    <tr style=\"text-align: right;\">\n",
       "      <th></th>\n",
       "      <th>timePeriod</th>\n",
       "      <th>practice_code</th>\n",
       "      <th>practice_name</th>\n",
       "      <th>practice_organization</th>\n",
       "      <th>street</th>\n",
       "      <th>city</th>\n",
       "      <th>area</th>\n",
       "      <th>postcode</th>\n",
       "    </tr>\n",
       "  </thead>\n",
       "  <tbody>\n",
       "    <tr>\n",
       "      <th>0</th>\n",
       "      <td>201502</td>\n",
       "      <td>A81001</td>\n",
       "      <td>THE DENSHAM SURGERY</td>\n",
       "      <td>THE HEALTH CENTRE</td>\n",
       "      <td>LAWSON STREET</td>\n",
       "      <td>STOCKTON</td>\n",
       "      <td>CLEVELAND</td>\n",
       "      <td>TS18 1HU</td>\n",
       "    </tr>\n",
       "    <tr>\n",
       "      <th>1</th>\n",
       "      <td>201502</td>\n",
       "      <td>A81002</td>\n",
       "      <td>QUEENS PARK MEDICAL CENTRE</td>\n",
       "      <td>QUEENS PARK MEDICAL CTR</td>\n",
       "      <td>FARRER STREET</td>\n",
       "      <td>STOCKTON ON TEES</td>\n",
       "      <td>CLEVELAND</td>\n",
       "      <td>TS18 2AW</td>\n",
       "    </tr>\n",
       "    <tr>\n",
       "      <th>2</th>\n",
       "      <td>201502</td>\n",
       "      <td>A81003</td>\n",
       "      <td>THE HEALTH CENTRE</td>\n",
       "      <td>THE HEALTH CENTRE</td>\n",
       "      <td>VICTORIA ROAD</td>\n",
       "      <td>HARTLEPOOL</td>\n",
       "      <td>CLEVELAND</td>\n",
       "      <td>TS26 8DB</td>\n",
       "    </tr>\n",
       "    <tr>\n",
       "      <th>3</th>\n",
       "      <td>201502</td>\n",
       "      <td>A81004</td>\n",
       "      <td>WOODLANDS ROAD SURGERY</td>\n",
       "      <td>6 WOODLANDS ROAD</td>\n",
       "      <td></td>\n",
       "      <td>MIDDLESBROUGH</td>\n",
       "      <td>CLEVELAND</td>\n",
       "      <td>TS1 3BE</td>\n",
       "    </tr>\n",
       "    <tr>\n",
       "      <th>4</th>\n",
       "      <td>201502</td>\n",
       "      <td>A81005</td>\n",
       "      <td>SPRINGWOOD SURGERY</td>\n",
       "      <td>SPRINGWOOD SURGERY</td>\n",
       "      <td>RECTORY LANE</td>\n",
       "      <td>GUISBOROUGH</td>\n",
       "      <td></td>\n",
       "      <td>TS14 7DJ</td>\n",
       "    </tr>\n",
       "  </tbody>\n",
       "</table>\n",
       "</div>"
      ],
      "text/plain": [
       "   timePeriod practice_code                             practice_name  \\\n",
       "0      201502        A81001  THE DENSHAM SURGERY                        \n",
       "1      201502        A81002  QUEENS PARK MEDICAL CENTRE                 \n",
       "2      201502        A81003  THE HEALTH CENTRE                          \n",
       "3      201502        A81004  WOODLANDS ROAD SURGERY                     \n",
       "4      201502        A81005  SPRINGWOOD SURGERY                         \n",
       "\n",
       "       practice_organization                     street  \\\n",
       "0  THE HEALTH CENTRE          LAWSON STREET               \n",
       "1  QUEENS PARK MEDICAL CTR    FARRER STREET               \n",
       "2  THE HEALTH CENTRE          VICTORIA ROAD               \n",
       "3  6 WOODLANDS ROAD                                       \n",
       "4  SPRINGWOOD SURGERY         RECTORY LANE                \n",
       "\n",
       "                        city                       area  postcode  \n",
       "0  STOCKTON                   CLEVELAND                  TS18 1HU  \n",
       "1  STOCKTON ON TEES           CLEVELAND                  TS18 2AW  \n",
       "2  HARTLEPOOL                 CLEVELAND                  TS26 8DB  \n",
       "3  MIDDLESBROUGH              CLEVELAND                  TS1 3BE   \n",
       "4  GUISBOROUGH                                           TS14 7DJ  "
      ]
     },
     "execution_count": 12,
     "metadata": {},
     "output_type": "execute_result"
    }
   ],
   "source": [
    "lookup_practice.head()"
   ]
  },
  {
   "cell_type": "code",
   "execution_count": 17,
   "metadata": {
    "collapsed": false
   },
   "outputs": [
    {
     "data": {
      "text/plain": [
       "0    STOCKTON                 \n",
       "1    STOCKTON ON TEES         \n",
       "2    HARTLEPOOL               \n",
       "3    MIDDLESBROUGH            \n",
       "4    GUISBOROUGH              \n",
       "Name: city, dtype: object"
      ]
     },
     "execution_count": 17,
     "metadata": {},
     "output_type": "execute_result"
    }
   ],
   "source": [
    "lookup_practice[\"city\"].head()"
   ]
  },
  {
   "cell_type": "code",
   "execution_count": 13,
   "metadata": {
    "collapsed": false
   },
   "outputs": [
    {
     "data": {
      "text/html": [
       "<div>\n",
       "<table border=\"1\" class=\"dataframe\">\n",
       "  <thead>\n",
       "    <tr style=\"text-align: right;\">\n",
       "      <th></th>\n",
       "      <th>timePeriod</th>\n",
       "      <th>practice_code</th>\n",
       "      <th>practice_name</th>\n",
       "      <th>practice_organization</th>\n",
       "      <th>street</th>\n",
       "      <th>city</th>\n",
       "      <th>area</th>\n",
       "      <th>postcode</th>\n",
       "    </tr>\n",
       "  </thead>\n",
       "  <tbody>\n",
       "    <tr>\n",
       "      <th>9898</th>\n",
       "      <td>201502</td>\n",
       "      <td>Y04926</td>\n",
       "      <td>APPLETON PRIMARY CARE CENTRE</td>\n",
       "      <td>45 DUDLOW GREEN ROAD</td>\n",
       "      <td></td>\n",
       "      <td>WARRINGTON</td>\n",
       "      <td>CHESHIRE</td>\n",
       "      <td>WA4 5EQ</td>\n",
       "    </tr>\n",
       "    <tr>\n",
       "      <th>9899</th>\n",
       "      <td>201502</td>\n",
       "      <td>Y04927</td>\n",
       "      <td>CULCHETH PRIMARY CARE CENTRE</td>\n",
       "      <td>JACKSON AVENUE</td>\n",
       "      <td>CULCHETH</td>\n",
       "      <td>WARRINGTON</td>\n",
       "      <td>CHESHIRE</td>\n",
       "      <td>WA3 4DZ</td>\n",
       "    </tr>\n",
       "    <tr>\n",
       "      <th>9900</th>\n",
       "      <td>201502</td>\n",
       "      <td>Y04933</td>\n",
       "      <td>QUAY HEALTH EAC</td>\n",
       "      <td>SPA MEDICAL CENTRE</td>\n",
       "      <td>50 OLD JAMAICA ROAD</td>\n",
       "      <td></td>\n",
       "      <td>LONDON</td>\n",
       "      <td>SE16 4BN</td>\n",
       "    </tr>\n",
       "    <tr>\n",
       "      <th>9901</th>\n",
       "      <td>201502</td>\n",
       "      <td>Y04963</td>\n",
       "      <td>PETERBOROUGH SYSTEM CONTINENCE PILOT</td>\n",
       "      <td>CITY HEALTH CLINIC</td>\n",
       "      <td>WELLINGTON STREET</td>\n",
       "      <td>PETERBOROUGH</td>\n",
       "      <td></td>\n",
       "      <td>PE1 5DU</td>\n",
       "    </tr>\n",
       "    <tr>\n",
       "      <th>9902</th>\n",
       "      <td>201502</td>\n",
       "      <td>Y04977</td>\n",
       "      <td>DCHS NHS FOUNDATION TRUST</td>\n",
       "      <td>WELBECK STREET</td>\n",
       "      <td>CRESWELL</td>\n",
       "      <td>WORKSOP</td>\n",
       "      <td>NOTTINGHAMSHIRE</td>\n",
       "      <td>S80 4HA</td>\n",
       "    </tr>\n",
       "  </tbody>\n",
       "</table>\n",
       "</div>"
      ],
      "text/plain": [
       "      timePeriod practice_code                             practice_name  \\\n",
       "9898      201502        Y04926  APPLETON PRIMARY CARE CENTRE               \n",
       "9899      201502        Y04927  CULCHETH PRIMARY CARE CENTRE               \n",
       "9900      201502        Y04933  QUAY HEALTH EAC                            \n",
       "9901      201502        Y04963  PETERBOROUGH SYSTEM CONTINENCE PILOT       \n",
       "9902      201502        Y04977  DCHS NHS FOUNDATION TRUST                  \n",
       "\n",
       "          practice_organization                     street  \\\n",
       "9898  45 DUDLOW GREEN ROAD                                   \n",
       "9899  JACKSON AVENUE             CULCHETH                    \n",
       "9900  SPA MEDICAL CENTRE         50 OLD JAMAICA ROAD         \n",
       "9901  CITY HEALTH CLINIC         WELLINGTON STREET           \n",
       "9902  WELBECK STREET             CRESWELL                    \n",
       "\n",
       "                           city                       area  postcode  \n",
       "9898  WARRINGTON                 CHESHIRE                   WA4 5EQ   \n",
       "9899  WARRINGTON                 CHESHIRE                   WA3 4DZ   \n",
       "9900                             LONDON                     SE16 4BN  \n",
       "9901  PETERBOROUGH                                          PE1 5DU   \n",
       "9902  WORKSOP                    NOTTINGHAMSHIRE            S80 4HA   "
      ]
     },
     "execution_count": 13,
     "metadata": {},
     "output_type": "execute_result"
    }
   ],
   "source": [
    "lookup_practice.tail()"
   ]
  },
  {
   "cell_type": "code",
   "execution_count": 18,
   "metadata": {
    "collapsed": false
   },
   "outputs": [
    {
     "data": {
      "text/plain": [
       "9898    WARRINGTON               \n",
       "9899    WARRINGTON               \n",
       "9900                             \n",
       "9901    PETERBOROUGH             \n",
       "9902    WORKSOP                  \n",
       "Name: city, dtype: object"
      ]
     },
     "execution_count": 18,
     "metadata": {},
     "output_type": "execute_result"
    }
   ],
   "source": [
    "city_tail = lookup_practice[\"city\"].tail()\n",
    "city_tail"
   ]
  },
  {
   "cell_type": "code",
   "execution_count": 20,
   "metadata": {
    "collapsed": false
   },
   "outputs": [
    {
     "data": {
      "text/plain": [
       "pandas.core.series.Series"
      ]
     },
     "execution_count": 20,
     "metadata": {},
     "output_type": "execute_result"
    }
   ],
   "source": [
    "type(city_tail )"
   ]
  },
  {
   "cell_type": "markdown",
   "metadata": {
    "collapsed": true
   },
   "source": [
    "What problems do you see with the dataframe?\n",
    "\n",
    "- Capital letters in the data makes it difficult to read.\n",
    "- There are cells with missing data.\n"
   ]
  },
  {
   "cell_type": "markdown",
   "metadata": {},
   "source": [
    "## Let's tidy it up"
   ]
  },
  {
   "cell_type": "markdown",
   "metadata": {},
   "source": [
    "Capitalize only the first letter of practice city, area and street columns \n",
    "\n"
   ]
  },
  {
   "cell_type": "code",
   "execution_count": 23,
   "metadata": {
    "collapsed": false
   },
   "outputs": [
    {
     "data": {
      "text/plain": [
       "0    Stockton                 \n",
       "1    Stockton On Tees         \n",
       "2    Hartlepool               \n",
       "3    Middlesbrough            \n",
       "4    Guisborough              \n",
       "Name: city, dtype: object"
      ]
     },
     "execution_count": 23,
     "metadata": {},
     "output_type": "execute_result"
    }
   ],
   "source": [
    "# single column\n",
    "\n",
    "lookup_practice[\"city\"]=lookup_practice[\"city\"].str.title()\n",
    "\n",
    "lookup_practice[\"city\"].head()"
   ]
  },
  {
   "cell_type": "code",
   "execution_count": 24,
   "metadata": {
    "collapsed": true
   },
   "outputs": [],
   "source": [
    "# multiple columns\n",
    "\n",
    "for col in [\"area\",\"street\"]:\n",
    "    lookup_practice[col]=lookup_practice[col].str.title()"
   ]
  },
  {
   "cell_type": "code",
   "execution_count": 36,
   "metadata": {
    "collapsed": false
   },
   "outputs": [
    {
     "data": {
      "text/plain": [
       "0    Cleveland                \n",
       "1    Cleveland                \n",
       "2    Cleveland                \n",
       "3    Cleveland                \n",
       "4                             \n",
       "Name: area, dtype: object"
      ]
     },
     "execution_count": 36,
     "metadata": {},
     "output_type": "execute_result"
    }
   ],
   "source": [
    "lookup_practice[\"area\"].head()"
   ]
  },
  {
   "cell_type": "markdown",
   "metadata": {},
   "source": [
    "Capitalize the first letter of each word of the ‘practice organization’ and ‘name’ columns"
   ]
  },
  {
   "cell_type": "code",
   "execution_count": 28,
   "metadata": {
    "collapsed": false
   },
   "outputs": [
    {
     "data": {
      "text/plain": [
       "0    The Health Centre        \n",
       "1    Queens Park Medical Ctr  \n",
       "2    The Health Centre        \n",
       "3    6 Woodlands Road         \n",
       "4    Springwood Surgery       \n",
       "Name: practice_organization, dtype: object"
      ]
     },
     "execution_count": 28,
     "metadata": {},
     "output_type": "execute_result"
    }
   ],
   "source": [
    "lookup_practice[\"practice_organization\"] = lookup_practice[\"practice_organization\"].str.title()\n",
    "\n",
    "lookup_practice[\"practice_organization\"].head()"
   ]
  },
  {
   "cell_type": "code",
   "execution_count": 32,
   "metadata": {
    "collapsed": false
   },
   "outputs": [],
   "source": [
    "lookup_practice[\"practice_name\"] = lookup_practice[\"practice_name\"].str.title()"
   ]
  },
  {
   "cell_type": "markdown",
   "metadata": {},
   "source": [
    "Remove any trailing whitespace from all columns "
   ]
  },
  {
   "cell_type": "code",
   "execution_count": 35,
   "metadata": {
    "collapsed": false
   },
   "outputs": [],
   "source": [
    "# e.g. single column you can run:\n",
    "\n",
    "lookup_practice[\"city\"] = lookup_practice[\"city\"].str.strip()\n",
    "\n",
    "# in a loop\n",
    "\n",
    "for col in lookup_practice.columns:    \n",
    "    if lookup_practice[col].dtype.kind == object: #remember what the dtypes where for strings?\n",
    "        lookup_practice[col] = lookup_practice[col].str.strip()"
   ]
  },
  {
   "cell_type": "code",
   "execution_count": 37,
   "metadata": {
    "collapsed": false
   },
   "outputs": [
    {
     "data": {
      "text/html": [
       "<div>\n",
       "<table border=\"1\" class=\"dataframe\">\n",
       "  <thead>\n",
       "    <tr style=\"text-align: right;\">\n",
       "      <th></th>\n",
       "      <th>timePeriod</th>\n",
       "      <th>practice_code</th>\n",
       "      <th>practice_name</th>\n",
       "      <th>practice_organization</th>\n",
       "      <th>street</th>\n",
       "      <th>city</th>\n",
       "      <th>area</th>\n",
       "      <th>postcode</th>\n",
       "    </tr>\n",
       "  </thead>\n",
       "  <tbody>\n",
       "    <tr>\n",
       "      <th>0</th>\n",
       "      <td>201502</td>\n",
       "      <td>A81001</td>\n",
       "      <td>The Health Centre</td>\n",
       "      <td>The Health Centre</td>\n",
       "      <td>Lawson Street</td>\n",
       "      <td>Stockton</td>\n",
       "      <td>Cleveland</td>\n",
       "      <td>TS18 1HU</td>\n",
       "    </tr>\n",
       "    <tr>\n",
       "      <th>1</th>\n",
       "      <td>201502</td>\n",
       "      <td>A81002</td>\n",
       "      <td>Queens Park Medical Ctr</td>\n",
       "      <td>Queens Park Medical Ctr</td>\n",
       "      <td>Farrer Street</td>\n",
       "      <td>Stockton On Tees</td>\n",
       "      <td>Cleveland</td>\n",
       "      <td>TS18 2AW</td>\n",
       "    </tr>\n",
       "    <tr>\n",
       "      <th>2</th>\n",
       "      <td>201502</td>\n",
       "      <td>A81003</td>\n",
       "      <td>The Health Centre</td>\n",
       "      <td>The Health Centre</td>\n",
       "      <td>Victoria Road</td>\n",
       "      <td>Hartlepool</td>\n",
       "      <td>Cleveland</td>\n",
       "      <td>TS26 8DB</td>\n",
       "    </tr>\n",
       "    <tr>\n",
       "      <th>3</th>\n",
       "      <td>201502</td>\n",
       "      <td>A81004</td>\n",
       "      <td>6 Woodlands Road</td>\n",
       "      <td>6 Woodlands Road</td>\n",
       "      <td></td>\n",
       "      <td>Middlesbrough</td>\n",
       "      <td>Cleveland</td>\n",
       "      <td>TS1 3BE</td>\n",
       "    </tr>\n",
       "    <tr>\n",
       "      <th>4</th>\n",
       "      <td>201502</td>\n",
       "      <td>A81005</td>\n",
       "      <td>Springwood Surgery</td>\n",
       "      <td>Springwood Surgery</td>\n",
       "      <td>Rectory Lane</td>\n",
       "      <td>Guisborough</td>\n",
       "      <td></td>\n",
       "      <td>TS14 7DJ</td>\n",
       "    </tr>\n",
       "  </tbody>\n",
       "</table>\n",
       "</div>"
      ],
      "text/plain": [
       "   timePeriod practice_code            practice_name  \\\n",
       "0      201502        A81001        The Health Centre   \n",
       "1      201502        A81002  Queens Park Medical Ctr   \n",
       "2      201502        A81003        The Health Centre   \n",
       "3      201502        A81004         6 Woodlands Road   \n",
       "4      201502        A81005       Springwood Surgery   \n",
       "\n",
       "       practice_organization                     street              city  \\\n",
       "0  The Health Centre          Lawson Street                      Stockton   \n",
       "1  Queens Park Medical Ctr    Farrer Street              Stockton On Tees   \n",
       "2  The Health Centre          Victoria Road                    Hartlepool   \n",
       "3  6 Woodlands Road                                         Middlesbrough   \n",
       "4  Springwood Surgery         Rectory Lane                    Guisborough   \n",
       "\n",
       "                        area  postcode  \n",
       "0  Cleveland                  TS18 1HU  \n",
       "1  Cleveland                  TS18 2AW  \n",
       "2  Cleveland                  TS26 8DB  \n",
       "3  Cleveland                  TS1 3BE   \n",
       "4                             TS14 7DJ  "
      ]
     },
     "execution_count": 37,
     "metadata": {},
     "output_type": "execute_result"
    }
   ],
   "source": [
    "lookup_practice.head()"
   ]
  },
  {
   "cell_type": "markdown",
   "metadata": {},
   "source": [
    "How many practices do not have a city defined? \n",
    "\n",
    "This is a two-part problem, first, identify how the missing values are recorded."
   ]
  },
  {
   "cell_type": "code",
   "execution_count": null,
   "metadata": {
    "collapsed": false
   },
   "outputs": [],
   "source": [
    "# a. Identify a way for replacing the missing values with NaN, pandas' internal missing value np.nan.\n",
    "\n",
    "lookup_practice[\"city\"] = #Your code here\n",
    "\n",
    "# The entire dataframe at once \n",
    "\n",
    "lookup_practice = #Your code here"
   ]
  },
  {
   "cell_type": "markdown",
   "metadata": {},
   "source": [
    "Could we have called replace before removing the whitespace above?"
   ]
  },
  {
   "cell_type": "code",
   "execution_count": null,
   "metadata": {
    "collapsed": false
   },
   "outputs": [],
   "source": [
    "# b. Use a function to count the missing values.\n",
    "\n",
    "#Your code here"
   ]
  },
  {
   "cell_type": "markdown",
   "metadata": {},
   "source": [
    "## GP prescribing data file"
   ]
  },
  {
   "cell_type": "markdown",
   "metadata": {},
   "source": [
    "Read in the prescribing data file to a pandas dataframe."
   ]
  },
  {
   "cell_type": "code",
   "execution_count": null,
   "metadata": {
    "collapsed": false
   },
   "outputs": [],
   "source": [
    "file_prescriptions=\"\"\n",
    "\n",
    "data=pd.read_csv(file_prescriptions)\n",
    "\n",
    "data.head()"
   ]
  },
  {
   "cell_type": "markdown",
   "metadata": {},
   "source": [
    "Create custom column names and read in the file again using the column names as the header."
   ]
  },
  {
   "cell_type": "code",
   "execution_count": null,
   "metadata": {
    "collapsed": true
   },
   "outputs": [],
   "source": [
    "cols = [\n",
    "    'sha',\n",
    "    'pct',\n",
    "    'practice',\n",
    "    'bnf_code',\n",
    "    'bnf_name',\n",
    "    'items',\n",
    "    'nic',\n",
    "    'act_cost',\n",
    "    'quantity',\n",
    "    'period' \n",
    "];\n",
    "data=pd.read_csv(file_prescriptions, sep=\",\", header=None, names=cols, index_col=False, skiprows=1)"
   ]
  },
  {
   "cell_type": "markdown",
   "metadata": {},
   "source": [
    "Explore the data using built-in methods. "
   ]
  },
  {
   "cell_type": "code",
   "execution_count": null,
   "metadata": {
    "collapsed": false
   },
   "outputs": [],
   "source": [
    ".dtypes"
   ]
  },
  {
   "cell_type": "code",
   "execution_count": null,
   "metadata": {
    "collapsed": false
   },
   "outputs": [],
   "source": [
    ".head()"
   ]
  },
  {
   "cell_type": "markdown",
   "metadata": {},
   "source": [
    "Use pandas' *unique* function to obtain the unique values from the series."
   ]
  },
  {
   "cell_type": "code",
   "execution_count": null,
   "metadata": {
    "collapsed": false
   },
   "outputs": [],
   "source": [
    "pct_unique_values = #Your code here"
   ]
  },
  {
   "cell_type": "markdown",
   "metadata": {},
   "source": [
    "Count the number of elements in the list using Python's _len_ function."
   ]
  },
  {
   "cell_type": "code",
   "execution_count": null,
   "metadata": {
    "collapsed": false
   },
   "outputs": [],
   "source": [
    "#Your code here"
   ]
  },
  {
   "cell_type": "markdown",
   "metadata": {},
   "source": [
    "Create a new column that contains the cost per dosage."
   ]
  },
  {
   "cell_type": "code",
   "execution_count": null,
   "metadata": {
    "collapsed": true
   },
   "outputs": [],
   "source": [
    "data['cost_per_dosage'] = data['act_cost']/data['quantity']"
   ]
  },
  {
   "cell_type": "markdown",
   "metadata": {},
   "source": [
    "## Densham Surgery Data"
   ]
  },
  {
   "cell_type": "markdown",
   "metadata": {},
   "source": [
    "Create a new DataFrame that contains the prescribing data from 'The Densham Surgery'. This process is often called \"subsetting\". The files are linked using the practice code."
   ]
  },
  {
   "cell_type": "code",
   "execution_count": null,
   "metadata": {
    "collapsed": false
   },
   "outputs": [],
   "source": [
    "#Find the practice code in our lookup table!\n",
    "\n",
    "#Your code here\n"
   ]
  },
  {
   "cell_type": "code",
   "execution_count": null,
   "metadata": {
    "collapsed": true
   },
   "outputs": [],
   "source": [
    "#Now subset and assign to a new table\n",
    "\n",
    "densham_data = #Your code here"
   ]
  },
  {
   "cell_type": "markdown",
   "metadata": {},
   "source": [
    "Calculate the total cost of all prescribed items in the surgery."
   ]
  },
  {
   "cell_type": "code",
   "execution_count": null,
   "metadata": {
    "collapsed": false
   },
   "outputs": [],
   "source": [
    "#Your code here"
   ]
  },
  {
   "cell_type": "markdown",
   "metadata": {},
   "source": [
    "Which item had the highest total costs? There are two ways in which this can be done:"
   ]
  },
  {
   "cell_type": "code",
   "execution_count": null,
   "metadata": {
    "collapsed": false
   },
   "outputs": [],
   "source": [
    "# Sorting the dataframe according to the act_cost column\n",
    "\n",
    "#Your code here"
   ]
  },
  {
   "cell_type": "code",
   "execution_count": null,
   "metadata": {
    "collapsed": false
   },
   "outputs": [],
   "source": [
    "# Using the max() function\n",
    "\n",
    "#Your code here\n"
   ]
  },
  {
   "cell_type": "markdown",
   "metadata": {},
   "source": [
    "Which item has the lowest total costs?"
   ]
  },
  {
   "cell_type": "code",
   "execution_count": null,
   "metadata": {
    "collapsed": false
   },
   "outputs": [],
   "source": [
    "# Sorting the dataframe according to the act_cost column\n",
    "\n",
    "#Your code here"
   ]
  },
  {
   "cell_type": "code",
   "execution_count": null,
   "metadata": {
    "collapsed": false
   },
   "outputs": [],
   "source": [
    "# Using the min() function\n",
    "\n",
    "#Your code here"
   ]
  },
  {
   "cell_type": "markdown",
   "metadata": {},
   "source": [
    "Identify all prescribed items where the quantity is between 80 and 90 inclusive."
   ]
  },
  {
   "cell_type": "code",
   "execution_count": null,
   "metadata": {
    "collapsed": false
   },
   "outputs": [],
   "source": [
    "# This is an sxample of using logical operators and truth testing to chain\n",
    "# multiple conditional statements together.\n",
    "\n",
    "#Your code here"
   ]
  },
  {
   "cell_type": "markdown",
   "metadata": {},
   "source": [
    "Which item is the most frequently prescribed?"
   ]
  },
  {
   "cell_type": "code",
   "execution_count": null,
   "metadata": {
    "collapsed": false
   },
   "outputs": [],
   "source": [
    "#Your code here"
   ]
  },
  {
   "cell_type": "markdown",
   "metadata": {},
   "source": [
    "How many prescribed items contain paracetamol?\n",
    "\n",
    "*Hint:* Use the '.str.contains()' method.\n",
    "\n",
    "Bonus points for doing this in one line ;-)"
   ]
  },
  {
   "cell_type": "code",
   "execution_count": null,
   "metadata": {
    "collapsed": false
   },
   "outputs": [],
   "source": [
    "#Your code here"
   ]
  },
  {
   "cell_type": "markdown",
   "metadata": {},
   "source": [
    "Calculate descriptive statistics on the actual costs for prescribed items.\n",
    "\n",
    "*Hint:* Use the '.mean', '.median', '.min', '.max', '.std' and '.var' methods."
   ]
  },
  {
   "cell_type": "code",
   "execution_count": null,
   "metadata": {
    "collapsed": false
   },
   "outputs": [],
   "source": [
    "all_densham_costs = densham_data['act_cost']\n",
    "\n",
    "#Your code here"
   ]
  },
  {
   "cell_type": "markdown",
   "metadata": {},
   "source": [
    "Calculate the first quartile (25th percentile), second quartile (50th percentile), third quartile (75th percentile) using the quantile function"
   ]
  },
  {
   "cell_type": "code",
   "execution_count": null,
   "metadata": {
    "collapsed": false
   },
   "outputs": [],
   "source": [
    "#Your code here"
   ]
  },
  {
   "cell_type": "markdown",
   "metadata": {},
   "source": [
    "Calculate the interquartile range (the difference between the third quartile and the first quartile)"
   ]
  },
  {
   "cell_type": "code",
   "execution_count": null,
   "metadata": {
    "collapsed": false
   },
   "outputs": [],
   "source": [
    "#Your code here"
   ]
  },
  {
   "cell_type": "markdown",
   "metadata": {},
   "source": [
    "Calculate the total cost of all prescribed items containing paracetamol"
   ]
  },
  {
   "cell_type": "code",
   "execution_count": null,
   "metadata": {
    "collapsed": false
   },
   "outputs": [],
   "source": [
    "#Your code here"
   ]
  },
  {
   "cell_type": "markdown",
   "metadata": {},
   "source": [
    "## All Data"
   ]
  },
  {
   "cell_type": "markdown",
   "metadata": {},
   "source": [
    "What was the total actual cost of all prescribed items in the Q52 Strategic Health Authority? \n",
    "\n",
    "*Hint*: Divide by 1000000 to get figure in millions."
   ]
  },
  {
   "cell_type": "code",
   "execution_count": null,
   "metadata": {
    "collapsed": false
   },
   "outputs": [],
   "source": [
    "#Your code here"
   ]
  },
  {
   "cell_type": "markdown",
   "metadata": {},
   "source": [
    "Calculate the total cost of all prescribed medication per Strategic Health Authority (SHA). "
   ]
  },
  {
   "cell_type": "code",
   "execution_count": null,
   "metadata": {
    "collapsed": false
   },
   "outputs": [],
   "source": [
    "# Keep only the unique SHA instances.\n",
    "\n",
    "all_shas = data['sha'].unique()\n",
    "\n",
    "# create an empty dictionary to keep track of costs\n",
    "\n",
    "cost_data = dict()\n",
    "\n",
    "# loop through each SHA, get subset of costs, sum, add to dictionary\n",
    "\n",
    "for sha in all_shas.tolist():\n",
    "\n",
    "    sha_prescribing= ... #Your code here (subset)\n",
    "    \n",
    "    cost_data[ sha ] = ..."
   ]
  },
  {
   "cell_type": "markdown",
   "metadata": {},
   "source": [
    "Which SHA had the highest costs? \n",
    "\n",
    "What about the lowest?\n",
    "\n",
    "*Hint*: A clever way of doing this is using python's max() function on a dictionary in this way: max(dict, key=dict.get)"
   ]
  },
  {
   "cell_type": "code",
   "execution_count": null,
   "metadata": {
    "collapsed": false
   },
   "outputs": [],
   "source": [
    "# Highest costs\n",
    "\n",
    "#Your code here\n",
    "\n",
    "# lowest costs\n",
    "\n",
    "#Your code here\n"
   ]
  }
 ],
 "metadata": {
  "anaconda-cloud": {},
  "kernelspec": {
   "display_name": "Python [default]",
   "language": "python",
   "name": "python2"
  },
  "language_info": {
   "codemirror_mode": {
    "name": "ipython",
    "version": 2
   },
   "file_extension": ".py",
   "mimetype": "text/x-python",
   "name": "python",
   "nbconvert_exporter": "python",
   "pygments_lexer": "ipython2",
   "version": "2.7.12"
  }
 },
 "nbformat": 4,
 "nbformat_minor": 0
}
